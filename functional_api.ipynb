{
 "cells": [
  {
   "cell_type": "code",
   "execution_count": 2,
   "metadata": {},
   "outputs": [],
   "source": [
    "import pandas as pd\n",
    "import numpy as np\n",
    "import matplotlib.pyplot as plt"
   ]
  },
  {
   "cell_type": "code",
   "execution_count": 3,
   "metadata": {},
   "outputs": [
    {
     "name": "stderr",
     "output_type": "stream",
     "text": [
      "Using TensorFlow backend.\n"
     ]
    }
   ],
   "source": [
    "import tensorflow as tf\n",
    "import keras "
   ]
  },
  {
   "cell_type": "code",
   "execution_count": 4,
   "metadata": {},
   "outputs": [],
   "source": [
    "keras.backend.clear_session()"
   ]
  },
  {
   "cell_type": "code",
   "execution_count": 5,
   "metadata": {},
   "outputs": [],
   "source": [
    "from sklearn.datasets import fetch_california_housing"
   ]
  },
  {
   "cell_type": "code",
   "execution_count": 6,
   "metadata": {},
   "outputs": [],
   "source": [
    "housing = fetch_california_housing()"
   ]
  },
  {
   "cell_type": "code",
   "execution_count": 7,
   "metadata": {},
   "outputs": [
    {
     "name": "stdout",
     "output_type": "stream",
     "text": [
      "['MedInc', 'HouseAge', 'AveRooms', 'AveBedrms', 'Population', 'AveOccup', 'Latitude', 'Longitude']\n"
     ]
    }
   ],
   "source": [
    "print(housing.feature_names)"
   ]
  },
  {
   "cell_type": "code",
   "execution_count": 8,
   "metadata": {},
   "outputs": [],
   "source": [
    "from sklearn.model_selection import train_test_split"
   ]
  },
  {
   "cell_type": "code",
   "execution_count": 9,
   "metadata": {},
   "outputs": [],
   "source": [
    "X_train_full,X_test,y_train_full,y_test = train_test_split(housing.data,housing.target,random_state=42)"
   ]
  },
  {
   "cell_type": "code",
   "execution_count": 10,
   "metadata": {},
   "outputs": [],
   "source": [
    "X_train,X_valid,y_train,y_valid = train_test_split(X_train_full,y_train_full,random_state=42)"
   ]
  },
  {
   "cell_type": "code",
   "execution_count": 11,
   "metadata": {},
   "outputs": [],
   "source": [
    "from sklearn.preprocessing import StandardScaler"
   ]
  },
  {
   "cell_type": "code",
   "execution_count": 12,
   "metadata": {},
   "outputs": [],
   "source": [
    "scaler = StandardScaler()"
   ]
  },
  {
   "cell_type": "code",
   "execution_count": 13,
   "metadata": {},
   "outputs": [],
   "source": [
    "X_train =scaler.fit_transform(X_train)\n",
    "X_valid = scaler.transform(X_valid)\n",
    "X_test = scaler.transform(X_test)"
   ]
  },
  {
   "cell_type": "code",
   "execution_count": 14,
   "metadata": {},
   "outputs": [],
   "source": [
    "np.random.seed(42)\n",
    "tf.random.set_seed(42)"
   ]
  },
  {
   "cell_type": "code",
   "execution_count": 15,
   "metadata": {},
   "outputs": [
    {
     "data": {
      "text/plain": [
       "(11610, 8)"
      ]
     },
     "execution_count": 15,
     "metadata": {},
     "output_type": "execute_result"
    }
   ],
   "source": [
    "X_train.shape"
   ]
  },
  {
   "cell_type": "code",
   "execution_count": 22,
   "metadata": {},
   "outputs": [],
   "source": [
    "input = keras.layers.Input(shape=X_train.shape[1:])\n",
    "hidden1 = keras.layers.Dense(30,activation=\"relu\")(input)\n",
    "hidden2 =keras.layers.Dense(30,activation=\"relu\")(hidden1)\n",
    "concat = keras.layers.concatenate([input, hidden2])\n",
    "output = keras.layers.Dense(1)(concat)\n",
    "model = keras.models.Model(inputs=[input],outputs=[output])"
   ]
  },
  {
   "cell_type": "code",
   "execution_count": 23,
   "metadata": {},
   "outputs": [
    {
     "name": "stdout",
     "output_type": "stream",
     "text": [
      "Model: \"model_1\"\n",
      "__________________________________________________________________________________________________\n",
      "Layer (type)                    Output Shape         Param #     Connected to                     \n",
      "==================================================================================================\n",
      "input_6 (InputLayer)            (None, 8)            0                                            \n",
      "__________________________________________________________________________________________________\n",
      "dense_6 (Dense)                 (None, 30)           270         input_6[0][0]                    \n",
      "__________________________________________________________________________________________________\n",
      "dense_7 (Dense)                 (None, 30)           930         dense_6[0][0]                    \n",
      "__________________________________________________________________________________________________\n",
      "concatenate_2 (Concatenate)     (None, 38)           0           input_6[0][0]                    \n",
      "                                                                 dense_7[0][0]                    \n",
      "__________________________________________________________________________________________________\n",
      "dense_8 (Dense)                 (None, 1)            39          concatenate_2[0][0]              \n",
      "==================================================================================================\n",
      "Total params: 1,239\n",
      "Trainable params: 1,239\n",
      "Non-trainable params: 0\n",
      "__________________________________________________________________________________________________\n"
     ]
    }
   ],
   "source": [
    "model.summary()"
   ]
  },
  {
   "cell_type": "code",
   "execution_count": 24,
   "metadata": {},
   "outputs": [],
   "source": [
    "model.compile(loss=\"mean_squared_error\",\n",
    "             optimizer=keras.optimizers.SGD(lr=1e-3),\n",
    "             metrics=[\"mae\"])"
   ]
  },
  {
   "cell_type": "code",
   "execution_count": 30,
   "metadata": {},
   "outputs": [
    {
     "name": "stdout",
     "output_type": "stream",
     "text": [
      "Train on 11610 samples, validate on 3870 samples\n",
      "Epoch 1/40\n",
      "11610/11610 [==============================] - 1s 76us/step - loss: 0.3695 - mae: 0.4340 - val_loss: 0.3614 - val_mae: 0.4229\n",
      "Epoch 2/40\n",
      "11610/11610 [==============================] - 1s 75us/step - loss: 0.3685 - mae: 0.4335 - val_loss: 0.3634 - val_mae: 0.4248\n",
      "Epoch 3/40\n",
      "11610/11610 [==============================] - 1s 72us/step - loss: 0.3678 - mae: 0.4329 - val_loss: 0.3667 - val_mae: 0.4230\n",
      "Epoch 4/40\n",
      "11610/11610 [==============================] - 1s 72us/step - loss: 0.3664 - mae: 0.4323 - val_loss: 0.3866 - val_mae: 0.4259\n",
      "Epoch 5/40\n",
      "11610/11610 [==============================] - 1s 72us/step - loss: 0.3663 - mae: 0.4316 - val_loss: 0.3576 - val_mae: 0.4223\n",
      "Epoch 6/40\n",
      "11610/11610 [==============================] - 1s 71us/step - loss: 0.3646 - mae: 0.4313 - val_loss: 0.3585 - val_mae: 0.4210\n",
      "Epoch 7/40\n",
      "11610/11610 [==============================] - 1s 71us/step - loss: 0.3642 - mae: 0.4303 - val_loss: 0.3539 - val_mae: 0.4227\n",
      "Epoch 8/40\n",
      "11610/11610 [==============================] - 1s 71us/step - loss: 0.3636 - mae: 0.4308 - val_loss: 0.3420 - val_mae: 0.4161\n",
      "Epoch 9/40\n",
      "11610/11610 [==============================] - 1s 72us/step - loss: 0.3619 - mae: 0.4295 - val_loss: 0.3593 - val_mae: 0.4186\n",
      "Epoch 10/40\n",
      "11610/11610 [==============================] - 1s 72us/step - loss: 0.3623 - mae: 0.4289 - val_loss: 0.3698 - val_mae: 0.4204\n",
      "Epoch 11/40\n",
      "11610/11610 [==============================] - 1s 70us/step - loss: 0.3611 - mae: 0.4289 - val_loss: 0.3849 - val_mae: 0.4226\n",
      "Epoch 12/40\n",
      "11610/11610 [==============================] - 1s 70us/step - loss: 0.3612 - mae: 0.4284 - val_loss: 0.3420 - val_mae: 0.4189\n",
      "Epoch 13/40\n",
      "11610/11610 [==============================] - 1s 72us/step - loss: 0.3598 - mae: 0.4279 - val_loss: 0.3434 - val_mae: 0.4196\n",
      "Epoch 14/40\n",
      "11610/11610 [==============================] - 1s 85us/step - loss: 0.3593 - mae: 0.4272 - val_loss: 0.3408 - val_mae: 0.4192\n",
      "Epoch 15/40\n",
      "11610/11610 [==============================] - 1s 88us/step - loss: 0.3586 - mae: 0.4271 - val_loss: 0.3407 - val_mae: 0.4169\n",
      "Epoch 16/40\n",
      "11610/11610 [==============================] - 1s 92us/step - loss: 0.3583 - mae: 0.4269 - val_loss: 0.3457 - val_mae: 0.4174\n",
      "Epoch 17/40\n",
      "11610/11610 [==============================] - 1s 96us/step - loss: 0.3574 - mae: 0.4262 - val_loss: 0.3455 - val_mae: 0.4160\n",
      "Epoch 18/40\n",
      "11610/11610 [==============================] - 1s 86us/step - loss: 0.3566 - mae: 0.4256 - val_loss: 0.3393 - val_mae: 0.4150\n",
      "Epoch 19/40\n",
      "11610/11610 [==============================] - 1s 85us/step - loss: 0.3564 - mae: 0.4254 - val_loss: 0.3390 - val_mae: 0.4139\n",
      "Epoch 20/40\n",
      "11610/11610 [==============================] - 1s 71us/step - loss: 0.3557 - mae: 0.4250 - val_loss: 0.3481 - val_mae: 0.4162\n",
      "Epoch 21/40\n",
      "11610/11610 [==============================] - 1s 72us/step - loss: 0.3555 - mae: 0.4248 - val_loss: 0.3507 - val_mae: 0.4159\n",
      "Epoch 22/40\n",
      "11610/11610 [==============================] - 1s 76us/step - loss: 0.3551 - mae: 0.4246 - val_loss: 0.3364 - val_mae: 0.4135\n",
      "Epoch 23/40\n",
      "11610/11610 [==============================] - 1s 71us/step - loss: 0.3541 - mae: 0.4243 - val_loss: 0.3493 - val_mae: 0.4157\n",
      "Epoch 24/40\n",
      "11610/11610 [==============================] - 1s 80us/step - loss: 0.3536 - mae: 0.4239 - val_loss: 0.3643 - val_mae: 0.4167\n",
      "Epoch 25/40\n",
      "11610/11610 [==============================] - 1s 77us/step - loss: 0.3536 - mae: 0.4231 - val_loss: 0.3365 - val_mae: 0.4140\n",
      "Epoch 26/40\n",
      "11610/11610 [==============================] - 1s 80us/step - loss: 0.3527 - mae: 0.4231 - val_loss: 0.3380 - val_mae: 0.4131\n",
      "Epoch 27/40\n",
      "11610/11610 [==============================] - 1s 76us/step - loss: 0.3524 - mae: 0.4226 - val_loss: 0.3370 - val_mae: 0.4127\n",
      "Epoch 28/40\n",
      "11610/11610 [==============================] - 1s 76us/step - loss: 0.3517 - mae: 0.4218 - val_loss: 0.3497 - val_mae: 0.4165\n",
      "Epoch 29/40\n",
      "11610/11610 [==============================] - 1s 75us/step - loss: 0.3517 - mae: 0.4222 - val_loss: 0.3363 - val_mae: 0.4162\n",
      "Epoch 30/40\n",
      "11610/11610 [==============================] - 1s 71us/step - loss: 0.3509 - mae: 0.4216 - val_loss: 0.3413 - val_mae: 0.4179\n",
      "Epoch 31/40\n",
      "11610/11610 [==============================] - 1s 73us/step - loss: 0.3505 - mae: 0.4214 - val_loss: 0.3409 - val_mae: 0.4161\n",
      "Epoch 32/40\n",
      "11610/11610 [==============================] - 1s 73us/step - loss: 0.3501 - mae: 0.4207 - val_loss: 0.3396 - val_mae: 0.4152\n",
      "Epoch 33/40\n",
      "11610/11610 [==============================] - 1s 72us/step - loss: 0.3499 - mae: 0.4209 - val_loss: 0.3371 - val_mae: 0.4138\n",
      "Epoch 34/40\n",
      "11610/11610 [==============================] - 1s 75us/step - loss: 0.3492 - mae: 0.4202 - val_loss: 0.3375 - val_mae: 0.4133\n",
      "Epoch 35/40\n",
      "11610/11610 [==============================] - 1s 72us/step - loss: 0.3485 - mae: 0.4203 - val_loss: 0.3499 - val_mae: 0.4148\n",
      "Epoch 36/40\n",
      "11610/11610 [==============================] - 1s 73us/step - loss: 0.3487 - mae: 0.4199 - val_loss: 0.3466 - val_mae: 0.4143\n",
      "Epoch 37/40\n",
      "11610/11610 [==============================] - 1s 71us/step - loss: 0.3480 - mae: 0.4198 - val_loss: 0.3321 - val_mae: 0.4113\n",
      "Epoch 38/40\n",
      "11610/11610 [==============================] - 1s 79us/step - loss: 0.3474 - mae: 0.4190 - val_loss: 0.3483 - val_mae: 0.4141\n",
      "Epoch 39/40\n",
      "11610/11610 [==============================] - 1s 91us/step - loss: 0.3477 - mae: 0.4193 - val_loss: 0.3332 - val_mae: 0.4112\n",
      "Epoch 40/40\n",
      "11610/11610 [==============================] - 1s 72us/step - loss: 0.3470 - mae: 0.4188 - val_loss: 0.3445 - val_mae: 0.4112\n"
     ]
    }
   ],
   "source": [
    "model_history=model.fit(X_train,y_train,epochs=40,validation_data=(X_valid,y_valid))"
   ]
  },
  {
   "cell_type": "code",
   "execution_count": 31,
   "metadata": {},
   "outputs": [
    {
     "name": "stdout",
     "output_type": "stream",
     "text": [
      "5160/5160 [==============================] - 0s 36us/step\n"
     ]
    }
   ],
   "source": [
    "mae_test = model.evaluate(X_test,y_test)"
   ]
  },
  {
   "cell_type": "code",
   "execution_count": 32,
   "metadata": {},
   "outputs": [
    {
     "data": {
      "text/plain": [
       "[0.3516756274441416, 0.4178646504878998]"
      ]
     },
     "execution_count": 32,
     "metadata": {},
     "output_type": "execute_result"
    }
   ],
   "source": [
    "mae_test"
   ]
  },
  {
   "cell_type": "code",
   "execution_count": 33,
   "metadata": {},
   "outputs": [
    {
     "data": {
      "text/plain": [
       "{'val_loss': [0.3614385931374799,\n",
       "  0.3634248106670626,\n",
       "  0.3667256153292126,\n",
       "  0.3865832791694991,\n",
       "  0.3575900099228211,\n",
       "  0.35854262965286116,\n",
       "  0.35387327571709953,\n",
       "  0.34202011761277223,\n",
       "  0.3592836900043857,\n",
       "  0.3698391718457836,\n",
       "  0.38493245043803864,\n",
       "  0.3419736981006864,\n",
       "  0.343406812742699,\n",
       "  0.34081313540769176,\n",
       "  0.34068675677289645,\n",
       "  0.3457312054335301,\n",
       "  0.34552544350001857,\n",
       "  0.33932646497583513,\n",
       "  0.3389537351615053,\n",
       "  0.3480596800106132,\n",
       "  0.3507414584397038,\n",
       "  0.33641446841163536,\n",
       "  0.34927638027557106,\n",
       "  0.3642971780488041,\n",
       "  0.33647414679983173,\n",
       "  0.33795134500631685,\n",
       "  0.33702820035068254,\n",
       "  0.34965643804202706,\n",
       "  0.3362808770526595,\n",
       "  0.34126633304804177,\n",
       "  0.34094961423436493,\n",
       "  0.3396222466107179,\n",
       "  0.33713571837398126,\n",
       "  0.33749021477323476,\n",
       "  0.3498656411426628,\n",
       "  0.3465569462039982,\n",
       "  0.33213974734917473,\n",
       "  0.34832918444499184,\n",
       "  0.333235140063966,\n",
       "  0.34447050274034496],\n",
       " 'val_mae': [0.4228583872318268,\n",
       "  0.4247593283653259,\n",
       "  0.4229685664176941,\n",
       "  0.4258648753166199,\n",
       "  0.42227429151535034,\n",
       "  0.4209893047809601,\n",
       "  0.42267289757728577,\n",
       "  0.4161318838596344,\n",
       "  0.41857418417930603,\n",
       "  0.4203953444957733,\n",
       "  0.4225785732269287,\n",
       "  0.4189053773880005,\n",
       "  0.41955888271331787,\n",
       "  0.41916683316230774,\n",
       "  0.41691702604293823,\n",
       "  0.41740894317626953,\n",
       "  0.4160328507423401,\n",
       "  0.4149714410305023,\n",
       "  0.41388142108917236,\n",
       "  0.4161826968193054,\n",
       "  0.41586968302726746,\n",
       "  0.41346365213394165,\n",
       "  0.41574081778526306,\n",
       "  0.41669797897338867,\n",
       "  0.41404852271080017,\n",
       "  0.4130845367908478,\n",
       "  0.4126652777194977,\n",
       "  0.4165487289428711,\n",
       "  0.416194349527359,\n",
       "  0.4178737998008728,\n",
       "  0.4161226749420166,\n",
       "  0.41522058844566345,\n",
       "  0.4138246178627014,\n",
       "  0.41333505511283875,\n",
       "  0.4147915840148926,\n",
       "  0.414264976978302,\n",
       "  0.4113391041755676,\n",
       "  0.4140949249267578,\n",
       "  0.41116863489151,\n",
       "  0.41115906834602356],\n",
       " 'loss': [0.3694746139899705,\n",
       "  0.36845662559444387,\n",
       "  0.3678352543549944,\n",
       "  0.3663605744062468,\n",
       "  0.3663269613191652,\n",
       "  0.36456673185852045,\n",
       "  0.3641832882171043,\n",
       "  0.36356589143693085,\n",
       "  0.3618940636323096,\n",
       "  0.36226769138470893,\n",
       "  0.36112228040547334,\n",
       "  0.3611575188973564,\n",
       "  0.3597712011505672,\n",
       "  0.3592612953303088,\n",
       "  0.3585790186067987,\n",
       "  0.3582880562179362,\n",
       "  0.3574182048632501,\n",
       "  0.35657935648206796,\n",
       "  0.356400329526594,\n",
       "  0.3557181633643094,\n",
       "  0.3554874522741451,\n",
       "  0.35513699321681114,\n",
       "  0.35411002103056405,\n",
       "  0.3535682030991169,\n",
       "  0.35362712253690487,\n",
       "  0.35265652144602105,\n",
       "  0.35238247283258695,\n",
       "  0.3516502936604103,\n",
       "  0.3517381701101834,\n",
       "  0.3509114451751331,\n",
       "  0.3505315247278189,\n",
       "  0.35010875388530693,\n",
       "  0.34993454863242707,\n",
       "  0.3491635688823631,\n",
       "  0.3485446362712073,\n",
       "  0.3486831531801376,\n",
       "  0.3479588870032916,\n",
       "  0.34738246066933764,\n",
       "  0.34766610988145447,\n",
       "  0.3469516431125046],\n",
       " 'mae': [0.4339807,\n",
       "  0.4334522,\n",
       "  0.43287072,\n",
       "  0.43233594,\n",
       "  0.4315723,\n",
       "  0.4312989,\n",
       "  0.43034297,\n",
       "  0.4308325,\n",
       "  0.42948306,\n",
       "  0.42887837,\n",
       "  0.42892468,\n",
       "  0.4284394,\n",
       "  0.42785734,\n",
       "  0.42723542,\n",
       "  0.42707786,\n",
       "  0.42685866,\n",
       "  0.42620942,\n",
       "  0.42562518,\n",
       "  0.42542836,\n",
       "  0.4250145,\n",
       "  0.4248056,\n",
       "  0.42464617,\n",
       "  0.4243037,\n",
       "  0.42391884,\n",
       "  0.4231194,\n",
       "  0.4231481,\n",
       "  0.4225843,\n",
       "  0.42182148,\n",
       "  0.42215624,\n",
       "  0.42164642,\n",
       "  0.42140615,\n",
       "  0.42073,\n",
       "  0.4209324,\n",
       "  0.4202337,\n",
       "  0.42027947,\n",
       "  0.41991857,\n",
       "  0.41976732,\n",
       "  0.41900268,\n",
       "  0.4192587,\n",
       "  0.41875985]}"
      ]
     },
     "execution_count": 33,
     "metadata": {},
     "output_type": "execute_result"
    }
   ],
   "source": [
    "model_history.history"
   ]
  },
  {
   "cell_type": "code",
   "execution_count": 34,
   "metadata": {},
   "outputs": [
    {
     "data": {
      "image/png": "[encoded data removed]",
      "text/plain": [
       "<Figure size 576x360 with 1 Axes>"
      ]
     },
     "metadata": {
      "needs_background": "light"
     },
     "output_type": "display_data"
    }
   ],
   "source": [
    "pd.DataFrame(model_history.history).plot(figsize=(8,5))\n",
    "plt.grid(True)\n",
    "plt.gca().set_ylim(0,1)\n",
    "plt.show()"
   ]
  },
  {
   "cell_type": "code",
   "execution_count": 35,
   "metadata": {},
   "outputs": [],
   "source": [
    "model.save(\"functional_api.h5\")"
   ]
  },
  {
   "cell_type": "code",
   "execution_count": 36,
   "metadata": {},
   "outputs": [
    {
     "data": {
      "text/plain": [
       "'C:\\\\Users\\\\GAURAV KANOJIA'"
      ]
     },
     "execution_count": 36,
     "metadata": {},
     "output_type": "execute_result"
    }
   ],
   "source": [
    "%pwd"
   ]
  },
  {
   "cell_type": "code",
   "execution_count": 41,
   "metadata": {},
   "outputs": [],
   "source": [
    "del model"
   ]
  },
  {
   "cell_type": "code",
   "execution_count": 38,
   "metadata": {},
   "outputs": [],
   "source": [
    "model = keras.models.load_model(\"functional_api.h5\")"
   ]
  },
  {
   "cell_type": "code",
   "execution_count": 39,
   "metadata": {},
   "outputs": [
    {
     "name": "stdout",
     "output_type": "stream",
     "text": [
      "Model: \"model_1\"\n",
      "__________________________________________________________________________________________________\n",
      "Layer (type)                    Output Shape         Param #     Connected to                     \n",
      "==================================================================================================\n",
      "input_6 (InputLayer)            (None, 8)            0                                            \n",
      "__________________________________________________________________________________________________\n",
      "dense_6 (Dense)                 (None, 30)           270         input_6[0][0]                    \n",
      "__________________________________________________________________________________________________\n",
      "dense_7 (Dense)                 (None, 30)           930         dense_6[0][0]                    \n",
      "__________________________________________________________________________________________________\n",
      "concatenate_2 (Concatenate)     (None, 38)           0           input_6[0][0]                    \n",
      "                                                                 dense_7[0][0]                    \n",
      "__________________________________________________________________________________________________\n",
      "dense_8 (Dense)                 (None, 1)            39          concatenate_2[0][0]              \n",
      "==================================================================================================\n",
      "Total params: 1,239\n",
      "Trainable params: 1,239\n",
      "Non-trainable params: 0\n",
      "__________________________________________________________________________________________________\n"
     ]
    }
   ],
   "source": [
    "model.summary()"
   ]
  },
  {
   "cell_type": "code",
   "execution_count": 42,
   "metadata": {},
   "outputs": [],
   "source": [
    "np.random.seed(42)"
   ]
  },
  {
   "cell_type": "code",
   "execution_count": 43,
   "metadata": {},
   "outputs": [],
   "source": [
    "tf.random.set_seed(42)"
   ]
  },
  {
   "cell_type": "code",
   "execution_count": 44,
   "metadata": {},
   "outputs": [],
   "source": [
    "model = keras.models.Sequential([\n",
    "    keras.layers.Dense(30,activation=\"relu\",input_shape=[8]),\n",
    "    keras.layers.Dense(30,activation=\"relu\"),\n",
    "    keras.layers.Dense(1)\n",
    "])"
   ]
  },
  {
   "cell_type": "code",
   "execution_count": 45,
   "metadata": {},
   "outputs": [],
   "source": [
    "model.compile(loss=\"mse\",optimizer=keras.optimizers.SGD(lr=1e-3))"
   ]
  },
  {
   "cell_type": "code",
   "execution_count": 54,
   "metadata": {},
   "outputs": [],
   "source": [
    "checkpoint_cb = keras.callbacks.ModelCheckpoint(\"Model-{epoch:02d}.h5\")"
   ]
  },
  {
   "cell_type": "code",
   "execution_count": 55,
   "metadata": {},
   "outputs": [
    {
     "name": "stdout",
     "output_type": "stream",
     "text": [
      "Train on 11610 samples, validate on 3870 samples\n",
      "Epoch 1/10\n",
      "11610/11610 [==============================] - 1s 80us/step - loss: 0.3988 - val_loss: 0.4367\n",
      "Epoch 2/10\n",
      "11610/11610 [==============================] - 1s 98us/step - loss: 0.3970 - val_loss: 0.3726\n",
      "Epoch 3/10\n",
      "11610/11610 [==============================] - 1s 100us/step - loss: 0.3940 - val_loss: 0.4344\n",
      "Epoch 4/10\n",
      "11610/11610 [==============================] - 1s 68us/step - loss: 0.3928 - val_loss: 0.3694\n",
      "Epoch 5/10\n",
      "11610/11610 [==============================] - 1s 88us/step - loss: 0.3902 - val_loss: 0.4181\n",
      "Epoch 6/10\n",
      "11610/11610 [==============================] - 1s 89us/step - loss: 0.3890 - val_loss: 0.3637\n",
      "Epoch 7/10\n",
      "11610/11610 [==============================] - 1s 83us/step - loss: 0.3867 - val_loss: 0.4352\n",
      "Epoch 8/10\n",
      "11610/11610 [==============================] - 1s 80us/step - loss: 0.3853 - val_loss: 0.3934\n",
      "Epoch 9/10\n",
      "11610/11610 [==============================] - 1s 82us/step - loss: 0.3841 - val_loss: 0.3695\n",
      "Epoch 10/10\n",
      "11610/11610 [==============================] - 1s 81us/step - loss: 0.3825 - val_loss: 0.3678\n"
     ]
    }
   ],
   "source": [
    "history = model.fit(X_train,y_train,epochs=10,validation_data=(X_valid,y_valid),callbacks=[checkpoint_cb])"
   ]
  },
  {
   "cell_type": "markdown",
   "metadata": {},
   "source": [
    "## best fit model"
   ]
  },
  {
   "cell_type": "code",
   "execution_count": 56,
   "metadata": {},
   "outputs": [],
   "source": [
    "del model"
   ]
  },
  {
   "cell_type": "code",
   "execution_count": 57,
   "metadata": {},
   "outputs": [],
   "source": [
    "keras.backend.clear_session()"
   ]
  },
  {
   "cell_type": "code",
   "execution_count": 58,
   "metadata": {},
   "outputs": [],
   "source": [
    "model = keras.models.Sequential([\n",
    "    keras.layers.Dense(30,activation=\"relu\",input_shape=[8]),\n",
    "    keras.layers.Dense(30,activation=\"relu\"),\n",
    "    keras.layers.Dense(1)\n",
    "])"
   ]
  },
  {
   "cell_type": "code",
   "execution_count": 59,
   "metadata": {},
   "outputs": [],
   "source": [
    "model.compile(loss=\"mse\",optimizer=keras.optimizers.SGD(lr=1e-3))"
   ]
  },
  {
   "cell_type": "code",
   "execution_count": 60,
   "metadata": {},
   "outputs": [],
   "source": [
    "checkpoint_cb = keras.callbacks.ModelCheckpoint(\"Best_Model.h5\",save_best_only=True)"
   ]
  },
  {
   "cell_type": "code",
   "execution_count": 61,
   "metadata": {},
   "outputs": [
    {
     "name": "stdout",
     "output_type": "stream",
     "text": [
      "Train on 11610 samples, validate on 3870 samples\n",
      "Epoch 1/10\n",
      "11610/11610 [==============================] - 2s 140us/step - loss: 1.8919 - val_loss: 1.3479\n",
      "Epoch 2/10\n",
      "11610/11610 [==============================] - 2s 169us/step - loss: 0.7909 - val_loss: 0.7224\n",
      "Epoch 3/10\n",
      "11610/11610 [==============================] - 3s 240us/step - loss: 0.6966 - val_loss: 0.6708\n",
      "Epoch 4/10\n",
      "11610/11610 [==============================] - 2s 183us/step - loss: 0.6508 - val_loss: 0.6335\n",
      "Epoch 5/10\n",
      "11610/11610 [==============================] - 2s 196us/step - loss: 0.6132 - val_loss: 0.5771\n",
      "Epoch 6/10\n",
      "11610/11610 [==============================] - 2s 134us/step - loss: 0.5813 - val_loss: 0.5348\n",
      "Epoch 7/10\n",
      "11610/11610 [==============================] - 2s 170us/step - loss: 0.5514 - val_loss: 0.5059\n",
      "Epoch 8/10\n",
      "11610/11610 [==============================] - 2s 140us/step - loss: 0.5251 - val_loss: 0.4959A: 0s - loss: 0.52\n",
      "Epoch 9/10\n",
      "11610/11610 [==============================] - 1s 87us/step - loss: 0.5013 - val_loss: 0.4897\n",
      "Epoch 10/10\n",
      "11610/11610 [==============================] - 1s 91us/step - loss: 0.4823 - val_loss: 0.4901\n"
     ]
    }
   ],
   "source": [
    "history = model.fit(X_train,y_train,epochs=10,validation_data=(X_valid,y_valid),callbacks=[checkpoint_cb])"
   ]
  },
  {
   "cell_type": "markdown",
   "metadata": {},
   "source": [
    "## best Model only"
   ]
  },
  {
   "cell_type": "code",
   "execution_count": 62,
   "metadata": {},
   "outputs": [],
   "source": [
    "del model\n",
    "keras.backend.clear_session()"
   ]
  },
  {
   "cell_type": "code",
   "execution_count": 63,
   "metadata": {},
   "outputs": [],
   "source": [
    "model = keras.models.Sequential([\n",
    "    keras.layers.Dense(30,activation=\"relu\",input_shape=[8]),\n",
    "    keras.layers.Dense(30,activation=\"relu\"),\n",
    "    keras.layers.Dense(1)\n",
    "])"
   ]
  },
  {
   "cell_type": "code",
   "execution_count": 64,
   "metadata": {},
   "outputs": [],
   "source": [
    "model.compile(loss=\"mse\",optimizer=keras.optimizers.SGD(lr=1e-3))"
   ]
  },
  {
   "cell_type": "code",
   "execution_count": 66,
   "metadata": {},
   "outputs": [],
   "source": [
    "checkpoint_cb = keras.callbacks.ModelCheckpoint(\"early_stop.h5\",save_best_only=True)"
   ]
  },
  {
   "cell_type": "code",
   "execution_count": 67,
   "metadata": {},
   "outputs": [],
   "source": [
    "early_stopping_cb = keras.callbacks.EarlyStopping(patience=10,restore_best_weights=True)"
   ]
  },
  {
   "cell_type": "code",
   "execution_count": 68,
   "metadata": {},
   "outputs": [
    {
     "name": "stdout",
     "output_type": "stream",
     "text": [
      "Train on 11610 samples, validate on 3870 samples\n",
      "Epoch 1/200\n",
      "11610/11610 [==============================] - 1s 80us/step - loss: 2.1958 - val_loss: 2.9140\n",
      "Epoch 2/200\n",
      "11610/11610 [==============================] - 1s 84us/step - loss: 0.7576 - val_loss: 0.7994\n",
      "Epoch 3/200\n",
      "11610/11610 [==============================] - 1s 70us/step - loss: 0.6685 - val_loss: 0.6300\n",
      "Epoch 4/200\n",
      "11610/11610 [==============================] - 1s 85us/step - loss: 0.6283 - val_loss: 0.5996\n",
      "Epoch 5/200\n",
      "11610/11610 [==============================] - 1s 79us/step - loss: 0.5971 - val_loss: 0.5641\n",
      "Epoch 6/200\n",
      "11610/11610 [==============================] - 1s 79us/step - loss: 0.5679 - val_loss: 0.5316\n",
      "Epoch 7/200\n",
      "11610/11610 [==============================] - 1s 71us/step - loss: 0.5437 - val_loss: 0.5145\n",
      "Epoch 8/200\n",
      "11610/11610 [==============================] - 1s 83us/step - loss: 0.5207 - val_loss: 0.4770\n",
      "Epoch 9/200\n",
      "11610/11610 [==============================] - 1s 89us/step - loss: 0.5012 - val_loss: 0.4591\n",
      "Epoch 10/200\n",
      "11610/11610 [==============================] - 1s 78us/step - loss: 0.4838 - val_loss: 0.4611\n",
      "Epoch 11/200\n",
      "11610/11610 [==============================] - 1s 89us/step - loss: 0.4686 - val_loss: 0.4368\n",
      "Epoch 12/200\n",
      "11610/11610 [==============================] - 1s 71us/step - loss: 0.4557 - val_loss: 0.4390\n",
      "Epoch 13/200\n",
      "11610/11610 [==============================] - 1s 98us/step - loss: 0.4436 - val_loss: 0.4180\n",
      "Epoch 14/200\n",
      "11610/11610 [==============================] - 1s 126us/step - loss: 0.4342 - val_loss: 0.4408\n",
      "Epoch 15/200\n",
      "11610/11610 [==============================] - 2s 146us/step - loss: 0.4259 - val_loss: 0.4249\n",
      "Epoch 16/200\n",
      "11610/11610 [==============================] - 1s 125us/step - loss: 0.4194 - val_loss: 0.4115\n",
      "Epoch 17/200\n",
      "11610/11610 [==============================] - 2s 135us/step - loss: 0.4135 - val_loss: 0.4028\n",
      "Epoch 18/200\n",
      "11610/11610 [==============================] - 2s 140us/step - loss: 0.4088 - val_loss: 0.4079\n",
      "Epoch 19/200\n",
      "11610/11610 [==============================] - 2s 145us/step - loss: 0.4042 - val_loss: 0.4131\n",
      "Epoch 20/200\n",
      "11610/11610 [==============================] - 2s 133us/step - loss: 0.4005 - val_loss: 0.4262\n",
      "Epoch 21/200\n",
      "11610/11610 [==============================] - 2s 135us/step - loss: 0.3971 - val_loss: 0.3984\n",
      "Epoch 22/200\n",
      "11610/11610 [==============================] - 2s 170us/step - loss: 0.3939 - val_loss: 0.4304\n",
      "Epoch 23/200\n",
      "11610/11610 [==============================] - 2s 142us/step - loss: 0.3913 - val_loss: 0.3842\n",
      "Epoch 24/200\n",
      "11610/11610 [==============================] - 2s 165us/step - loss: 0.3882 - val_loss: 0.4487\n",
      "Epoch 25/200\n",
      "11610/11610 [==============================] - 2s 129us/step - loss: 0.3863 - val_loss: 0.4011\n",
      "Epoch 26/200\n",
      "11610/11610 [==============================] - 2s 170us/step - loss: 0.3841 - val_loss: 0.3986\n",
      "Epoch 27/200\n",
      "11610/11610 [==============================] - 2s 148us/step - loss: 0.3821 - val_loss: 0.4285\n",
      "Epoch 28/200\n",
      "11610/11610 [==============================] - 2s 137us/step - loss: 0.3803 - val_loss: 0.3697\n",
      "Epoch 29/200\n",
      "11610/11610 [==============================] - 2s 174us/step - loss: 0.3789 - val_loss: 0.3884\n",
      "Epoch 30/200\n",
      "11610/11610 [==============================] - 2s 137us/step - loss: 0.3770 - val_loss: 0.4197\n",
      "Epoch 31/200\n",
      "11610/11610 [==============================] - 2s 142us/step - loss: 0.3757 - val_loss: 0.3869\n",
      "Epoch 32/200\n",
      "11610/11610 [==============================] - 2s 136us/step - loss: 0.3741 - val_loss: 0.3984\n",
      "Epoch 33/200\n",
      "11610/11610 [==============================] - 2s 168us/step - loss: 0.3729 - val_loss: 0.3883\n",
      "Epoch 34/200\n",
      "11610/11610 [==============================] - 2s 133us/step - loss: 0.3716 - val_loss: 0.3617\n",
      "Epoch 35/200\n",
      "11610/11610 [==============================] - 2s 153us/step - loss: 0.3702 - val_loss: 0.4357\n",
      "Epoch 36/200\n",
      "11610/11610 [==============================] - 2s 148us/step - loss: 0.3695 - val_loss: 0.3600\n",
      "Epoch 37/200\n",
      "11610/11610 [==============================] - 2s 132us/step - loss: 0.3683 - val_loss: 0.3864\n",
      "Epoch 38/200\n",
      "11610/11610 [==============================] - 2s 142us/step - loss: 0.3671 - val_loss: 0.4115\n",
      "Epoch 39/200\n",
      "11610/11610 [==============================] - 2s 136us/step - loss: 0.3661 - val_loss: 0.3827\n",
      "Epoch 40/200\n",
      "11610/11610 [==============================] - 1s 118us/step - loss: 0.3651 - val_loss: 0.3594\n",
      "Epoch 41/200\n",
      "11610/11610 [==============================] - 1s 121us/step - loss: 0.3643 - val_loss: 0.3564\n",
      "Epoch 42/200\n",
      "11610/11610 [==============================] - 1s 120us/step - loss: 0.3632 - val_loss: 0.3827\n",
      "Epoch 43/200\n",
      "11610/11610 [==============================] - 1s 119us/step - loss: 0.3626 - val_loss: 0.3920\n",
      "Epoch 44/200\n",
      "11610/11610 [==============================] - 2s 154us/step - loss: 0.3617 - val_loss: 0.3865\n",
      "Epoch 45/200\n",
      "11610/11610 [==============================] - 2s 131us/step - loss: 0.3608 - val_loss: 0.4002\n",
      "Epoch 46/200\n",
      "11610/11610 [==============================] - 2s 133us/step - loss: 0.3600 - val_loss: 0.4112\n",
      "Epoch 47/200\n",
      "11610/11610 [==============================] - 2s 132us/step - loss: 0.3597 - val_loss: 0.3526\n",
      "Epoch 48/200\n",
      "11610/11610 [==============================] - 2s 158us/step - loss: 0.3586 - val_loss: 0.3722\n",
      "Epoch 49/200\n",
      "11610/11610 [==============================] - 2s 129us/step - loss: 0.3580 - val_loss: 0.3657\n",
      "Epoch 50/200\n",
      "11610/11610 [==============================] - 2s 130us/step - loss: 0.3573 - val_loss: 0.3716\n",
      "Epoch 51/200\n",
      "11610/11610 [==============================] - 2s 140us/step - loss: 0.3566 - val_loss: 0.3554\n",
      "Epoch 52/200\n",
      "11610/11610 [==============================] - 2s 172us/step - loss: 0.3559 - val_loss: 0.3603\n",
      "Epoch 53/200\n",
      "11610/11610 [==============================] - 2s 161us/step - loss: 0.3554 - val_loss: 0.3581\n",
      "Epoch 54/200\n",
      "11610/11610 [==============================] - 2s 145us/step - loss: 0.3548 - val_loss: 0.3876\n",
      "Epoch 55/200\n",
      "11610/11610 [==============================] - 2s 154us/step - loss: 0.3544 - val_loss: 0.3521\n",
      "Epoch 56/200\n",
      "11610/11610 [==============================] - 2s 141us/step - loss: 0.3536 - val_loss: 0.3394\n",
      "Epoch 57/200\n",
      "11610/11610 [==============================] - 2s 141us/step - loss: 0.3531 - val_loss: 0.3884\n",
      "Epoch 58/200\n",
      "11610/11610 [==============================] - 3s 247us/step - loss: 0.3526 - val_loss: 0.3540\n",
      "Epoch 59/200\n",
      "11610/11610 [==============================] - 2s 156us/step - loss: 0.3520 - val_loss: 0.3668\n",
      "Epoch 60/200\n",
      "11610/11610 [==============================] - 2s 147us/step - loss: 0.3512 - val_loss: 0.3468\n",
      "Epoch 61/200\n",
      "11610/11610 [==============================] - 1s 128us/step - loss: 0.3510 - val_loss: 0.3533\n",
      "Epoch 62/200\n",
      "11610/11610 [==============================] - 1s 126us/step - loss: 0.3505 - val_loss: 0.3766\n",
      "Epoch 63/200\n",
      "11610/11610 [==============================] - 2s 140us/step - loss: 0.3501 - val_loss: 0.3505\n",
      "Epoch 64/200\n",
      "11610/11610 [==============================] - 1s 125us/step - loss: 0.3495 - val_loss: 0.3861\n",
      "Epoch 65/200\n",
      "11610/11610 [==============================] - 2s 139us/step - loss: 0.3492 - val_loss: 0.3484\n",
      "Epoch 66/200\n",
      "11610/11610 [==============================] - 1s 122us/step - loss: 0.3485 - val_loss: 0.3579\n"
     ]
    }
   ],
   "source": [
    "history = model.fit(X_train,y_train,epochs=200,validation_data=(X_valid,y_valid),callbacks=[checkpoint_cb, early_stopping_cb])"
   ]
  },
  {
   "cell_type": "code",
   "execution_count": null,
   "metadata": {},
   "outputs": [],
   "source": []
  },
  {
   "cell_type": "code",
   "execution_count": null,
   "metadata": {},
   "outputs": [],
   "source": []
  },
  {
   "cell_type": "code",
   "execution_count": null,
   "metadata": {},
   "outputs": [],
   "source": []
  }
 ],
 "metadata": {
  "kernelspec": {
   "display_name": "Python 3",
   "language": "python",
   "name": "python3"
  },
  "language_info": {
   "codemirror_mode": {
    "name": "ipython",
    "version": 3
   },
   "file_extension": ".py",
   "mimetype": "text/x-python",
   "name": "python",
   "nbconvert_exporter": "python",
   "pygments_lexer": "ipython3",
   "version": "3.7.6"
  }
 },
 "nbformat": 4,
 "nbformat_minor": 4
}
